{
  "cells": [
    {
      "cell_type": "markdown",
      "metadata": {
        "id": "view-in-github",
        "colab_type": "text"
      },
      "source": [
        "<a href=\"https://colab.research.google.com/github/Anmasu/SDpub/blob/main/AI_Cosplay.ipynb\" target=\"_parent\"><img src=\"https://colab.research.google.com/assets/colab-badge.svg\" alt=\"Open In Colab\"/></a>"
      ]
    },
    {
      "cell_type": "code",
      "execution_count": null,
      "metadata": {
        "id": "tIOSkNgSQGfE"
      },
      "outputs": [],
      "source": [
        "#@title (for mobile/android user, run this first before Instant/Manual)\n",
        "\n",
        "%%html\n",
        "<b>Press play on the music player to keep the tab alive (Uses only 13MB of data)</b><br/>\n",
        "<br/>\n",
        "<i>Untuk pengguna mobile, tekan play di musik di bawah</i><br/>\n",
        "<i>Fungsinya agar bisa make Colabnya lebih lama (make kuota 13MB)</i><br/>\n",
        "<audio src=\"https://henk.tech/colabkobold/silence.m4a\" controls>"
      ]
    },
    {
      "cell_type": "markdown",
      "metadata": {
        "id": "ErvP2sMlVKzg"
      },
      "source": [
        "**TINGGAL RUN SHELL DI BAWAH DAN TUNGGU BEBERAPA MENIT, PLEASE SCROLL KE BAWAH**"
      ]
    },
    {
      "cell_type": "code",
      "execution_count": null,
      "metadata": {
        "id": "sBbcB4vwj_jm"
      },
      "outputs": [],
      "source": [
        "!pip install --upgrade fastapi==0.90.1\n",
        "!git clone https://github.com/AUTOMATIC1111/stable-diffusion-webui\n",
        "!git clone https://github.com/Mikubill/sd-webui-controlnet /content/stable-diffusion-webui/extensions/sd-webui-controlnet\n",
        "!git clone https://github.com/yfszzx/stable-diffusion-webui-images-browser /content/stable-diffusion-webui/extensions/stable-diffusion-webui-images-browser\n",
        "\n",
        "\n",
        "# Checkpointnyacoy\n",
        "!curl -Lo Checkpointnyacoy.safetensors https://civitai.com/api/download/models/13549\n",
        "!mv \"/content/Checkpointnyacoy.safetensors\" \"/content/stable-diffusion-webui/models/Stable-diffusion\"\n",
        "\n",
        "\n",
        "# ControlNet\n",
        "# canny\n",
        "!curl -Lo control_canny-fp16.safetensors https://huggingface.co/webui/ControlNet-modules-safetensors/resolve/main/control_canny-fp16.safetensors\n",
        "!mv \"/content/control_canny-fp16.safetensors\" \"/content/stable-diffusion-webui/extensions/sd-webui-controlnet/models\"\n",
        "# depth\n",
        "!curl -Lo control_depth-fp16.safetensors https://huggingface.co/kohya-ss/ControlNet-diff-modules/resolve/main/diff_control_sd15_depth_fp16.safetensors\n",
        "!mv \"/content/control_depth-fp16.safetensors\" \"/content/stable-diffusion-webui/extensions/sd-webui-controlnet/models\"\n",
        "# hed\n",
        "!curl -Lo control_hed-fp16.safetensors https://huggingface.co/webui/ControlNet-modules-safetensors/resolve/main/control_hed-fp16.safetensors\n",
        "!mv \"/content/control_hed-fp16.safetensors\" \"/content/stable-diffusion-webui/extensions/sd-webui-controlnet/models\"\n",
        "# mlsd\n",
        "!curl -Lo control_mlsd-fp16.safetensors https://huggingface.co/webui/ControlNet-modules-safetensors/resolve/main/control_mlsd-fp16.safetensors\n",
        "!mv \"/content/control_mlsd-fp16.safetensors\" \"/content/stable-diffusion-webui/extensions/sd-webui-controlnet/models\"\n",
        "# normal\n",
        "!curl -Lo control_normal-fp16.safetensors https://huggingface.co/webui/ControlNet-modules-safetensors/resolve/main/control_normal-fp16.safetensors\n",
        "!mv \"/content/control_normal-fp16.safetensors\" \"/content/stable-diffusion-webui/extensions/sd-webui-controlnet/models\"\n",
        "# openpose\n",
        "!curl -Lo control_openpose-fp16.safetensors https://huggingface.co/kohya-ss/ControlNet-diff-modules/resolve/main/diff_control_sd15_openpose_fp16.safetensors\n",
        "!mv \"/content/control_openpose-fp16.safetensors\" \"/content/stable-diffusion-webui/extensions/sd-webui-controlnet/models\"\n",
        "# scribble\n",
        "!curl -Lo control_scribble-fp16.safetensors https://huggingface.co/webui/ControlNet-modules-safetensors/resolve/main/control_scribble-fp16.safetensors\n",
        "!mv \"/content/control_scribble-fp16.safetensors\" \"/content/stable-diffusion-webui/extensions/sd-webui-controlnet/models\"\n",
        "# seg\n",
        "!curl -Lo control_seg-fp16.safetensors https://huggingface.co/webui/ControlNet-modules-safetensors/resolve/main/control_seg-fp16.safetensors\n",
        "!mv \"/content/control_seg-fp16.safetensors\" \"/content/stable-diffusion-webui/extensions/sd-webui-controlnet/models\"\n",
        "\n",
        "import shutil\n",
        "shutil.rmtree('/content/stable-diffusion-webui/embeddings')\n",
        "%cd /content/stable-diffusion-webui\n",
        "!git checkout 3715ece\n",
        "!git clone https://huggingface.co/nolanaatama/embeddings\n",
        "!COMMANDLINE_ARGS=\"--share --disable-safe-unpickle --no-half-vae --xformers --reinstall-xformers --enable-insecure-extension-access\" REQS_FILE=\"requirements.txt\" python launch.py"
      ]
    },
    {
      "cell_type": "markdown",
      "metadata": {
        "id": "atwUjTITTsTI"
      },
      "source": [
        "**SETELAH SHELL ATAS SELESAI, DAN LOG PALING BAWAH MUNCUL LINK GRADIO CONTOH (https://ada5ffff-dfff-4b7c.gradio.live/) STOP SHELL ATAS, LALU RUN SHELL DI BAWAH INI, NAH MASUK WEBUI NYA VIA LINK (SEPERTI CONTOH) YANG DIKASIH DI SHELL DI BAWAH INI**"
      ]
    },
    {
      "cell_type": "markdown",
      "metadata": {
        "id": "4BNpjkypUPfD"
      },
      "source": [
        "ada 9 LoRa yang tersedia kalo mau nambahin LoRa favorit kamu tinggal compare code shell LoRa di bawah, dan ganti link nya pake loRa Favorit kamu"
      ]
    },
    {
      "cell_type": "code",
      "execution_count": null,
      "metadata": {
        "id": "3EOPSiOgUs4z"
      },
      "outputs": [],
      "source": [
        "\n",
        "# LoRA 1\n",
        "!curl -Lo elaina.safetensors https://civitai.com/api/download/models/9959\n",
        "!mv \"/content/stable-diffusion-webui/elaina.safetensors\" \"/content/stable-diffusion-webui/models/Lora\"\n",
        "\n",
        "# BlueArsip\n",
        "!curl -Lo arona.safetensors https://civitai.com/api/download/models/9409\n",
        "!mv \"/content/stable-diffusion-webui/arona.safetensors\" \"/content/stable-diffusion-webui/models/Lora\"\n",
        "# BlueArsip\n",
        "!curl -Lo Saori.safetensors https://civitai.com/api/download/models/7954\n",
        "!mv \"/content/stable-diffusion-webui/Saori.safetensors\" \"/content/stable-diffusion-webui/models/Lora\"\n",
        "\n",
        "# LoRA 3\n",
        "!curl -Lo kobeni.safetensors https://civitai.com/api/download/models/7852\n",
        "!mv \"/content/stable-diffusion-webui/kobeni.safetensors\" \"/content/stable-diffusion-webui/models/Lora\"\n",
        "\n",
        "# Roxy\n",
        "!curl -Lo roxy.safetensors https://civitai.com/api/download/models/12795\n",
        "!mv \"/content/stable-diffusion-webui/roxy.safetensors\" \"/content/stable-diffusion-webui/models/Lora\"\n",
        "\n",
        "# NSFW\n",
        "!curl -Lo NotSafe.safetensors https://civitai.com/api/download/models/12869\n",
        "!mv \"/content/stable-diffusion-webui/NotSafe.safetensors\" \"/content/stable-diffusion-webui/models/Lora\"\n",
        "\n",
        "# LoRA 4\n",
        "!curl -Lo chisato.safetensors https://civitai.com/api/download/models/9989\n",
        "!mv \"/content/stable-diffusion-webui/chisato.safetensors\" \"/content/stable-diffusion-webui/models/Lora\"\n",
        "\n",
        "# LoRA 5\n",
        "!curl -Lo Chizuru.safetensors https://civitai.com/api/download/models/9350\n",
        "!mv \"/content/stable-diffusion-webui/Chizuru.safetensors\" \"/content/stable-diffusion-webui/models/Lora\"\n",
        "\n",
        "# LoRA 6\n",
        "!curl -Lo AliceRujakBokong.safetensors https://civitai.com/api/download/models/11075\n",
        "!mv \"/content/stable-diffusion-webui/AliceRujakBokong.safetensors\" \"/content/stable-diffusion-webui/models/Lora\"\n",
        "\n",
        "# LoRA 7\n",
        "!curl -Lo Shojovibe.safetensors https://civitai.com/api/download/models/16557\n",
        "!mv \"/content/stable-diffusion-webui/Shojovibe.safetensors\" \"/content/stable-diffusion-webui/models/Lora\"\n",
        "\n",
        "# Keke\n",
        "!curl -Lo Keke.safetensors https://civitai.com/api/download/models/10554\n",
        "!mv \"/content/stable-diffusion-webui/Keke.safetensors\" \"/content/stable-diffusion-webui/models/Lora\"\n",
        "\n",
        "# Kotegawa Chisa\n",
        "!curl -Lo Chisa.safetensors https://civitai.com/api/download/models/9319\n",
        "!mv \"/content/stable-diffusion-webui/Chisa.safetensors\" \"/content/stable-diffusion-webui/models/Lora\"\n",
        "\n",
        "# Banana\n",
        "!curl -Lo Daiba_nana.safetensors https://civitai.com/api/download/models/13384\n",
        "!mv \"/content/stable-diffusion-webui/Daiba_nana.safetensors\" \"/content/stable-diffusion-webui/models/Lora\"\n",
        "\n",
        "# Violet\n",
        "!curl -Lo violet.safetensors https://civitai.com/api/download/models/12976\n",
        "!mv \"/content/stable-diffusion-webui/violet.safetensors\" \"/content/stable-diffusion-webui/models/Lora\"\n",
        "\n",
        "# ViperRujakBokong\n",
        "!curl -Lo ViperRujakBokong.safetensors https://civitai.com/api/download/models/14909\n",
        "!mv \"/content/stable-diffusion-webui/ViperRujakBokong.safetensors\" \"/content/stable-diffusion-webui/models/Lora\"\n",
        "\n",
        "# LoRA 8\n",
        "!curl -Lo kotori.safetensors https://civitai.com/api/download/models/17842\n",
        "!mv \"/content/stable-diffusion-webui/kotori.safetensors\" \"/content/stable-diffusion-webui/models/Lora\"\n",
        "\n",
        "# LoRA 9\n",
        "!curl -Lo coser.safetensors https://civitai.com/api/download/models/16930\n",
        "!mv \"/content/stable-diffusion-webui/coser.safetensors\" \"/content/stable-diffusion-webui/models/Lora\"\n",
        "\n",
        "# LoRA 10\n",
        "!curl -Lo hutao.safetensors https://civitai.com/api/download/models/15991\n",
        "!mv \"/content/stable-diffusion-webui/hutao.safetensors\" \"/content/stable-diffusion-webui/models/Lora\"\n",
        "\n",
        "# LoRA 11\n",
        "!curl -Lo yanfei.safetensors https://civitai.com/api/download/models/6903\n",
        "!mv \"/content/stable-diffusion-webui/yanfei.safetensors\" \"/content/stable-diffusion-webui/models/Lora\"\n",
        "\n",
        "# LoRA 12\n",
        "!curl -Lo ayaka.safetensors https://civitai.com/api/download/models/15974\n",
        "!mv \"/content/stable-diffusion-webui/ayaka.safetensors\" \"/content/stable-diffusion-webui/models/Lora\"\n",
        "\n",
        "# LoRA 13\n",
        "!curl -Lo Jdoll.safetensors https://drive.google.com/file/d/1ZeFWkL4MfzqAxr6vgGMcvAZy2ZhYNIl-/view?usp=sharing\n",
        "!mv \"/content/stable-diffusion-webui/Jdoll.safetensors\" \"/content/stable-diffusion-webui/models/Lora\"\n",
        "\n",
        "# LoRA 14\n",
        "!curl -Lo liyuu.safetensors https://civitai.com/api/download/models/11885\n",
        "!mv \"/content/stable-diffusion-webui/liyuu.safetensors\" \"/content/stable-diffusion-webui/models/Lora\"\n",
        "\n",
        "# LoRA 15\n",
        "!curl -Lo setsu.safetensors https://civitai.com/api/download/models/21242\n",
        "!mv \"/content/stable-diffusion-webui/setsu.safetensors\" \"/content/stable-diffusion-webui/models/Lora\"\n",
        "\n",
        "# LoRA 16\n",
        "!curl -Lo baqua.safetensors https://civitai.com/api/download/models/21056\n",
        "!mv \"/content/stable-diffusion-webui/baqua.safetensors\" \"/content/stable-diffusion-webui/models/Lora\"\n",
        "\n",
        "# LoRA 17\n",
        "!curl -Lo killjoy.safetensors https://civitai.com/api/download/models/12789\n",
        "!mv \"/content/stable-diffusion-webui/killjoy.safetensors\" \"/content/stable-diffusion-webui/models/Lora\"\n",
        "\n",
        "# LoRA 18\n",
        "!curl -Lo Kdoll.safetensors https://drive.google.com/file/d/1RLb9V2f6bvybdRMM1634g1k4xkNhBmGC/view?usp=sharing\n",
        "!mv \"/content/stable-diffusion-webui/Kdoll.safetensors\" \"/content/stable-diffusion-webui/models/Lora\"\n",
        "\n",
        "# LoRA 19\n",
        "!curl -Lo Ninym.safetensors https://civitai.com/api/download/models/23082\n",
        "!mv \"/content/stable-diffusion-webui/Ninym.safetensors\" \"/content/stable-diffusion-webui/models/Lora\"\n",
        "\n",
        "# LoRA 20\n",
        "!curl -Lo couple.safetensors https://civitai.com/api/download/models/21933\n",
        "!mv \"/content/stable-diffusion-webui/couple.safetensors\" \"/content/stable-diffusion-webui/models/Lora\"\n",
        "\n",
        "# LoRA 21\n",
        "!curl -Lo SocialCredit.safetensors https://civitai.com/api/download/models/20981\n",
        "!mv \"/content/stable-diffusion-webui/SocialCredit.safetensors\" \"/content/stable-diffusion-webui/models/Lora\"\n",
        "\n",
        "# LoRA 22\n",
        "!curl -Lo couple.safetensors https://civitai.com/api/download/models/21933\n",
        "!mv \"/content/stable-diffusion-webui/couple.safetensors\" \"/content/stable-diffusion-webui/models/Lora\"\n",
        "\n",
        "# HALU\n",
        "!curl -Lo Handhold.safetensors https://civitai.com/api/download/models/12755\n",
        "!mv \"/content/stable-diffusion-webui/Handhold.safetensors\" \"/content/stable-diffusion-webui/models/Lora\"\n",
        "\n",
        "# LoRA 23\n",
        "!curl -Lo hutaocos.safetensors https://civitai.com/api/download/models/15991\n",
        "!mv \"/content/stable-diffusion-webui/hutaocos.safetensors\" \"/content/stable-diffusion-webui/models/Lora\"\n",
        "\n",
        "# LoRA 24\n",
        "!curl -Lo incominghug.safetensors https://civitai.com/api/download/models/25497\n",
        "!mv \"/content/stable-diffusion-webui/incominghug.safetensors\" \"/content/stable-diffusion-webui/models/Lora\"\n",
        "\n",
        "# LoRA 25\n",
        "!curl -Lo nahida.safetensors https://civitai.com/api/download/models/21618\n",
        "!mv \"/content/stable-diffusion-webui/nahida.safetensors\" \"/content/stable-diffusion-webui/models/Lora\"\n",
        "\n",
        "# LoRA 26\n",
        "!curl -Lo kokomi.safetensors https://civitai.com/api/download/models/11708\n",
        "!mv \"/content/stable-diffusion-webui/kokomi.safetensors\" \"/content/stable-diffusion-webui/models/Lora\"\n",
        "\n",
        "# LoRA 27\n",
        "!curl -Lo HertaWangy.safetensors https://civitai.com/api/download/models/21234\n",
        "!mv \"/content/stable-diffusion-webui/HertaWangy.safetensors\" \"/content/stable-diffusion-webui/models/Lora\"\n",
        "\n",
        "# LoRA 28\n",
        "!curl -Lo March7th.safetensors https://civitai.com/api/download/models/12154\n",
        "!mv \"/content/stable-diffusion-webui/March7th.safetensors\" \"/content/stable-diffusion-webui/models/Lora\"\n",
        "\n",
        "# LoRA 29\n",
        "!curl -Lo TrailBlazerFemale.safetensors https://civitai.com/api/download/models/13423\n",
        "!mv \"/content/stable-diffusion-webui/TrailBlazerFemale.safetensors\" \"/content/stable-diffusion-webui/models/Lora\"\n",
        "\n",
        "# LoRA 30\n",
        "!curl -Lo BronyaHSR.safetensors https://civitai.com/api/download/models/18684\n",
        "!mv \"/content/stable-diffusion-webui/BronyaHSR.safetensors\" \"/content/stable-diffusion-webui/models/Lora\"\n",
        "\n",
        "# LoRA 31\n",
        "!curl -Lo WhiteBackground.safetensors https://civitai.com/api/download/models/20072\n",
        "!mv \"/content/stable-diffusion-webui/WhiteBackground.safetensors\" \"/content/stable-diffusion-webui/models/Lora\"\n",
        "\n",
        "# LoRA 32\n",
        "!curl -Lo Peeking.safetensors https://civitai.com/api/download/models/49050\n",
        "!mv \"/content/stable-diffusion-webui/Peeking.safetensors\" \"/content/stable-diffusion-webui/models/Lora\"\n",
        "\n",
        "\n",
        "# ...\n",
        "\n",
        "!COMMANDLINE_ARGS=\"--share --disable-safe-unpickle --no-half-vae --xformers --reinstall-xformers --enable-insecure-extension-access\" REQS_FILE=\"requirements.txt\" python launch.py"
      ]
    },
    {
      "cell_type": "markdown",
      "metadata": {
        "id": "EMt72ES-V87g"
      },
      "source": [
        "**Credits and Thanks To Nolana Aatama**"
      ]
    },
    {
      "cell_type": "markdown",
      "metadata": {
        "id": "phZQSQHcWH0T"
      },
      "source": [
        "**Translate and Simpliied by :** [@amanda_ic1805](https://web.facebook.com/ClariS.22.7.765.Muse)"
      ]
    },
    {
      "cell_type": "markdown",
      "metadata": {
        "id": "fhwIXzcgfkoR"
      },
      "source": [
        "# 📚 GitHub for more: [_@nolanaatama_](https://github.com/nolanaatama)\n",
        "# 📦 Repo: [Github](https://github.com/nolanaatama/sd-1click-colab)"
      ]
    }
  ],
  "metadata": {
    "accelerator": "GPU",
    "colab": {
      "provenance": [],
      "include_colab_link": true
    },
    "gpuClass": "standard",
    "kernelspec": {
      "display_name": "Python 3",
      "name": "python3"
    },
    "language_info": {
      "name": "python"
    }
  },
  "nbformat": 4,
  "nbformat_minor": 0
}